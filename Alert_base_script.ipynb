{
 "cells": [
  {
   "cell_type": "code",
   "execution_count": 1,
   "metadata": {},
   "outputs": [],
   "source": [
    "library(rmarkdown);library(knitr);library(aws.s3)"
   ]
  },
  {
   "cell_type": "code",
   "execution_count": 4,
   "metadata": {},
   "outputs": [],
   "source": [
    "start <- Sys.time()"
   ]
  },
  {
   "cell_type": "code",
   "execution_count": 3,
   "metadata": {},
   "outputs": [],
   "source": [
    "## Adding the R environment file. This file contains the API used for analysis\n",
    "readRenviron(\"~/Git/API.Renviron\")"
   ]
  },
  {
   "cell_type": "code",
   "execution_count": null,
   "metadata": {},
   "outputs": [
    {
     "name": "stderr",
     "output_type": "stream",
     "text": [
      "\n",
      "\n",
      "processing file: Sensor_Alert_Performance.Rmd\n",
      "\n"
     ]
    },
    {
     "name": "stdout",
     "output_type": "stream",
     "text": [
      "  |...                                                                   |   4%\n",
      "   inline R code fragments\n",
      "\n",
      "  |......                                                                |   9%\n",
      "label: unnamed-chunk-1 (with options) \n",
      "List of 2\n",
      " $ echo  : logi FALSE\n",
      " $ engine: chr \"css\"\n",
      "\n",
      "  |.........                                                             |  13%\n",
      "  ordinary text without R code\n",
      "\n",
      "  |............                                                          |  17%\n",
      "label: unnamed-chunk-2 (with options) \n",
      "List of 2\n",
      " $ echo  : logi FALSE\n",
      " $ engine: chr \"js\"\n",
      "\n",
      "  |...............                                                       |  22%\n",
      "  ordinary text without R code\n",
      "\n",
      "  |..................                                                    |  26%\n",
      "label: setup (with options) \n",
      "List of 1\n",
      " $ include: logi FALSE\n",
      "\n",
      "  |.....................                                                 |  30%\n",
      "  ordinary text without R code\n",
      "\n",
      "  |........................                                              |  35%\n",
      "label: unnamed-chunk-3 (with options) \n",
      "List of 1\n",
      " $ echo: symbol F\n",
      "\n",
      "  |...........................                                           |  39%\n",
      "  ordinary text without R code\n",
      "\n",
      "  |..............................                                        |  43%\n",
      "label: unnamed-chunk-4 (with options) \n",
      "List of 4\n",
      " $ echo     : symbol F\n",
      " $ out.width: chr \"100%\"\n",
      " $ warning  : logi FALSE\n",
      " $ message  : symbol F\n",
      "\n"
     ]
    },
    {
     "name": "stderr",
     "output_type": "stream",
     "text": [
      "Assuming \"longitude\" and \"latitude\" are longitude and latitude, respectively\n",
      "\n"
     ]
    },
    {
     "name": "stdout",
     "output_type": "stream",
     "text": [
      "  |.................................                                     |  48%\n",
      "  ordinary text without R code\n",
      "\n",
      "  |.....................................                                 |  52%\n",
      "label: unnamed-chunk-5 (with options) \n",
      "List of 1\n",
      " $ echo: symbol F\n",
      "\n",
      "  |........................................                              |  57%\n",
      "  ordinary text without R code\n",
      "\n",
      "  |...........................................                           |  61%\n"
     ]
    }
   ],
   "source": [
    "render('/home/ubuntu/Git/Sensor_Alert/Sensor_Alert_Performance.Rmd')"
   ]
  },
  {
   "cell_type": "code",
   "execution_count": null,
   "metadata": {},
   "outputs": [],
   "source": [
    "end <- Sys.time()\n",
    "end-start"
   ]
  },
  {
   "cell_type": "code",
   "execution_count": 15,
   "metadata": {},
   "outputs": [],
   "source": [
    "## Add your AWS account details \n",
    "Sys.setenv(\"AWS_ACCESS_KEY_ID\" = Sys.getenv('AWS_ACCESS_KEY_ID'),\n",
    "\"AWS_SECRET_ACCESS_KEY\" = Sys.getenv('AWS_SECRET_ACCESS_KEY'),\n",
    "\"AWS_DEFAULT_REGION\" = \"us-east-1\")"
   ]
  },
  {
   "cell_type": "code",
   "execution_count": 16,
   "metadata": {},
   "outputs": [
    {
     "name": "stderr",
     "output_type": "stream",
     "text": [
      "File size is 18577946. Consider setting 'multipart = TRUE'.\n",
      "\n"
     ]
    },
    {
     "data": {
      "text/html": [
       "TRUE"
      ],
      "text/latex": [
       "TRUE"
      ],
      "text/markdown": [
       "TRUE"
      ],
      "text/plain": [
       "[1] TRUE"
      ]
     },
     "metadata": {},
     "output_type": "display_data"
    }
   ],
   "source": [
    "## Putting the resulting HTML into the S3 bucket\n",
    "put_object(file=\"/home/ubuntu/Git/Sensor_Alert/Sensor_Alert_Performance.html\",bucket=\"sensoralert\",\n",
    "          object=\"Sensor_Alert.html\",acl=\"public-read\")"
   ]
  }
 ],
 "metadata": {
  "kernelspec": {
   "display_name": "R [conda env:r-env]",
   "language": "R",
   "name": "conda-env-r-env-r"
  },
  "language_info": {
   "codemirror_mode": "r",
   "file_extension": ".r",
   "mimetype": "text/x-r-source",
   "name": "R",
   "pygments_lexer": "r",
   "version": "3.6.3"
  }
 },
 "nbformat": 4,
 "nbformat_minor": 4
}
