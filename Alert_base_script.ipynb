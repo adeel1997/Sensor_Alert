{
 "cells": [
  {
   "cell_type": "code",
   "execution_count": 1,
   "metadata": {},
   "outputs": [],
   "source": [
    "library(rmarkdown);library(knitr);library(aws.s3)"
   ]
  },
  {
   "cell_type": "code",
   "execution_count": 2,
   "metadata": {},
   "outputs": [],
   "source": [
    "start <- Sys.time()"
   ]
  },
  {
   "cell_type": "code",
   "execution_count": 3,
   "metadata": {},
   "outputs": [],
   "source": [
    "## Adding the R environment file. This file contains the API used for analysis\n",
    "readRenviron(\"~/Git/API.Renviron\")"
   ]
  },
  {
   "cell_type": "code",
   "execution_count": 4,
   "metadata": {},
   "outputs": [
    {
     "name": "stderr",
     "output_type": "stream",
     "text": [
      "\n",
      "\n",
      "processing file: Sensor_Alert_Performance.Rmd\n",
      "\n"
     ]
    },
    {
     "name": "stdout",
     "output_type": "stream",
     "text": [
      "  |...                                                                   |   4%\n",
      "   inline R code fragments\n",
      "\n",
      "  |......                                                                |   9%\n",
      "label: unnamed-chunk-1 (with options) \n",
      "List of 2\n",
      " $ echo  : logi FALSE\n",
      " $ engine: chr \"css\"\n",
      "\n",
      "  |.........                                                             |  13%\n",
      "  ordinary text without R code\n",
      "\n",
      "  |............                                                          |  17%\n",
      "label: unnamed-chunk-2 (with options) \n",
      "List of 2\n",
      " $ echo  : logi FALSE\n",
      " $ engine: chr \"js\"\n",
      "\n",
      "  |...............                                                       |  22%\n",
      "  ordinary text without R code\n",
      "\n",
      "  |..................                                                    |  26%\n",
      "label: setup (with options) \n",
      "List of 1\n",
      " $ include: logi FALSE\n",
      "\n",
      "  |.....................                                                 |  30%\n",
      "  ordinary text without R code\n",
      "\n",
      "  |........................                                              |  35%\n",
      "label: unnamed-chunk-3 (with options) \n",
      "List of 1\n",
      " $ echo: symbol F\n",
      "\n",
      "  |...........................                                           |  39%\n",
      "  ordinary text without R code\n",
      "\n",
      "  |..............................                                        |  43%\n",
      "label: unnamed-chunk-4 (with options) \n",
      "List of 4\n",
      " $ echo     : symbol F\n",
      " $ out.width: chr \"100%\"\n",
      " $ warning  : logi FALSE\n",
      " $ message  : symbol F\n",
      "\n"
     ]
    },
    {
     "name": "stderr",
     "output_type": "stream",
     "text": [
      "Assuming \"longitude\" and \"latitude\" are longitude and latitude, respectively\n",
      "\n"
     ]
    },
    {
     "name": "stdout",
     "output_type": "stream",
     "text": [
      "  |.................................                                     |  48%\n",
      "  ordinary text without R code\n",
      "\n",
      "  |.....................................                                 |  52%\n",
      "label: unnamed-chunk-5 (with options) \n",
      "List of 1\n",
      " $ echo: symbol F\n",
      "\n",
      "  |........................................                              |  57%\n",
      "  ordinary text without R code\n",
      "\n",
      "  |...........................................                           |  61%\n",
      "label: unnamed-chunk-6 (with options) \n",
      "List of 1\n",
      " $ include: symbol F\n",
      "\n",
      "  |..............................................                        |  65%\n",
      "  ordinary text without R code\n",
      "\n",
      "  |.................................................                     |  70%\n",
      "label: unnamed-chunk-7 (with options) \n",
      "List of 3\n",
      " $ echo   : symbol F\n",
      " $ warning: logi FALSE\n",
      " $ message: symbol F\n",
      "\n"
     ]
    },
    {
     "name": "stderr",
     "output_type": "stream",
     "text": [
      "Warning message in cor(obs, pred, use = ifelse(na.rm, \"complete.obs\", \"everything\")):\n",
      "\"the standard deviation is zero\"\n",
      "`summarise()` has grouped output by 'Sensor_Name', 'State', 'District'. You can override using the `.groups` argument.\n",
      "\n"
     ]
    },
    {
     "name": "stdout",
     "output_type": "stream",
     "text": [
      "  |....................................................                  |  74%\n",
      "  ordinary text without R code\n",
      "\n",
      "  |.......................................................               |  78%\n",
      "label: unnamed-chunk-8 (with options) \n",
      "List of 4\n",
      " $ echo     : symbol F\n",
      " $ out.width: chr \"100%\"\n",
      " $ warning  : logi FALSE\n",
      " $ message  : symbol F\n",
      "\n"
     ]
    },
    {
     "name": "stderr",
     "output_type": "stream",
     "text": [
      "Warning message in bscols(widths = c(10, 6, 6), widgets, plot_ly(tx, x = ~PM25_A, :\n",
      "\"Sum of bscol width units is greater than 12\"\n",
      "Warning message:\n",
      "\"Ignoring 2488 observations\"\n",
      "Warning message in RColorBrewer::brewer.pal(N, \"Set2\"):\n",
      "\"n too large, allowed maximum for palette Set2 is 8\n",
      "Returning the palette you asked for with that many colors\n",
      "\"\n",
      "Warning message in RColorBrewer::brewer.pal(N, \"Set2\"):\n",
      "\"n too large, allowed maximum for palette Set2 is 8\n",
      "Returning the palette you asked for with that many colors\n",
      "\"\n",
      "Warning message in RColorBrewer::brewer.pal(N, \"Set2\"):\n",
      "\"n too large, allowed maximum for palette Set2 is 8\n",
      "Returning the palette you asked for with that many colors\n",
      "\"\n",
      "Warning message in RColorBrewer::brewer.pal(N, \"Set2\"):\n",
      "\"n too large, allowed maximum for palette Set2 is 8\n",
      "Returning the palette you asked for with that many colors\n",
      "\"\n"
     ]
    },
    {
     "name": "stdout",
     "output_type": "stream",
     "text": [
      "  |..........................................................            |  83%\n",
      "  ordinary text without R code\n",
      "\n",
      "  |.............................................................         |  87%\n",
      "label: unnamed-chunk-9 (with options) \n",
      "List of 2\n",
      " $ echo  : logi FALSE\n",
      " $ engine: chr \"js\"\n",
      "\n",
      "  |................................................................      |  91%\n",
      "  ordinary text without R code\n",
      "\n",
      "  |...................................................................   |  96%\n",
      "label: unnamed-chunk-10 (with options) \n",
      "List of 4\n",
      " $ echo     : symbol F\n",
      " $ out.width: chr \"100%\"\n",
      " $ warning  : logi FALSE\n",
      " $ message  : symbol F\n",
      "\n"
     ]
    },
    {
     "name": "stderr",
     "output_type": "stream",
     "text": [
      "Warning message:\n",
      "\"Ignoring 2451 observations\"\n",
      "Warning message in RColorBrewer::brewer.pal(N, \"Set2\"):\n",
      "\"n too large, allowed maximum for palette Set2 is 8\n",
      "Returning the palette you asked for with that many colors\n",
      "\"\n",
      "Warning message in RColorBrewer::brewer.pal(N, \"Set2\"):\n",
      "\"n too large, allowed maximum for palette Set2 is 8\n",
      "Returning the palette you asked for with that many colors\n",
      "\"\n"
     ]
    },
    {
     "name": "stdout",
     "output_type": "stream",
     "text": [
      "  |......................................................................| 100%\n",
      "  ordinary text without R code\n",
      "\n",
      "\n"
     ]
    },
    {
     "name": "stderr",
     "output_type": "stream",
     "text": [
      "output file: Sensor_Alert_Performance.knit.md\n",
      "\n",
      "\n"
     ]
    },
    {
     "name": "stdout",
     "output_type": "stream",
     "text": [
      "/home/ubuntu/miniconda/envs/r-env/bin/pandoc +RTS -K512m -RTS Sensor_Alert_Performance.utf8.md --to html4 --from markdown+autolink_bare_uris+tex_math_single_backslash --output Sensor_Alert_Performance.html --lua-filter /home/ubuntu/miniconda/envs/r-env/lib/R/library/rmarkdown/rmarkdown/lua/pagebreak.lua --lua-filter /home/ubuntu/miniconda/envs/r-env/lib/R/library/rmarkdown/rmarkdown/lua/latex-div.lua --self-contained --variable bs3=TRUE --standalone --section-divs --template /home/ubuntu/miniconda/envs/r-env/lib/R/library/rmarkdown/rmd/h/default.html --no-highlight --variable highlightjs=1 --variable theme=bootstrap --include-in-header /tmp/RtmpUyijxW/rmarkdown-str27f221865695.html --mathjax --variable 'mathjax-url:https://mathjax.rstudio.com/latest/MathJax.js?config=TeX-AMS-MML_HTMLorMML' \n"
     ]
    },
    {
     "name": "stderr",
     "output_type": "stream",
     "text": [
      "\n",
      "Output created: Sensor_Alert_Performance.html\n",
      "\n"
     ]
    }
   ],
   "source": [
    "render('/home/ubuntu/Git/Sensor_Alert/Sensor_Alert_Performance.Rmd')"
   ]
  },
  {
   "cell_type": "code",
   "execution_count": 5,
   "metadata": {},
   "outputs": [
    {
     "data": {
      "text/plain": [
       "Time difference of 13.713 mins"
      ]
     },
     "metadata": {},
     "output_type": "display_data"
    }
   ],
   "source": [
    "end <- Sys.time()\n",
    "end-start"
   ]
  },
  {
   "cell_type": "code",
   "execution_count": 6,
   "metadata": {},
   "outputs": [],
   "source": [
    "## Add your AWS account details \n",
    "Sys.setenv(\"AWS_ACCESS_KEY_ID\" = Sys.getenv('AWS_ACCESS_KEY_ID'),\n",
    "\"AWS_SECRET_ACCESS_KEY\" = Sys.getenv('AWS_SECRET_ACCESS_KEY'),\n",
    "\"AWS_DEFAULT_REGION\" = \"us-east-1\")"
   ]
  },
  {
   "cell_type": "code",
   "execution_count": 7,
   "metadata": {},
   "outputs": [
    {
     "name": "stderr",
     "output_type": "stream",
     "text": [
      "File size is 13689328. Consider setting 'multipart = TRUE'.\n",
      "\n"
     ]
    },
    {
     "data": {
      "text/html": [
       "TRUE"
      ],
      "text/latex": [
       "TRUE"
      ],
      "text/markdown": [
       "TRUE"
      ],
      "text/plain": [
       "[1] TRUE"
      ]
     },
     "metadata": {},
     "output_type": "display_data"
    }
   ],
   "source": [
    "## Putting the resulting HTML into the S3 bucket\n",
    "put_object(file=\"/home/ubuntu/Git/Sensor_Alert/Sensor_Alert_Performance.html\",bucket=\"sensoralert\",\n",
    "          object=\"Sensor_Alert.html\",acl=\"public-read\")"
   ]
  },
  {
   "cell_type": "code",
   "execution_count": null,
   "metadata": {},
   "outputs": [],
   "source": []
  }
 ],
 "metadata": {
  "kernelspec": {
   "display_name": "R [conda env:r-env]",
   "language": "R",
   "name": "conda-env-r-env-r"
  },
  "language_info": {
   "codemirror_mode": "r",
   "file_extension": ".r",
   "mimetype": "text/x-r-source",
   "name": "R",
   "pygments_lexer": "r",
   "version": "3.6.3"
  }
 },
 "nbformat": 4,
 "nbformat_minor": 4
}
