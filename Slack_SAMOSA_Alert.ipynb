{
 "cells": [
  {
   "cell_type": "code",
   "execution_count": 26,
   "id": "b5dbe923-8bdb-4b01-9048-a9e54485831e",
   "metadata": {},
   "outputs": [],
   "source": [
    "## Loading relevant packages\n",
    "library(slackr)\n",
    "library(AirSensor)\n",
    "library(MazamaSpatialUtils)\n",
    "library(lubridate)\n",
    "library(dplyr)\n",
    "\n",
    "## Loading Spatial data \n",
    "## More details on Air Sensor Git hub page if it's not setup already\n",
    "initializeMazamaSpatialUtils(\"/home/ubuntu/Git/Sensor_Alert/Spatial_data\")\n",
    "\n",
    "## Settng the Country Code API link and look back days \n",
    "pas <- pas_createNew(countryCodes = \"IN\",\n",
    "                     baseUrl = 'https://www.purpleair.com/json?all=true',lookbackDays = 30,\n",
    "                     includePWFSL = F)\n",
    "## Changing the time zone to Asia/Kolkata\n",
    "pas$lastSeenDate <- with_tz(pas$lastSeenDate,tz=\"Asia/Kolkata\")\n",
    "\n"
   ]
  },
  {
   "cell_type": "code",
   "execution_count": 27,
   "id": "a61cac53-c1cc-4fdc-be93-67877c7d1d70",
   "metadata": {},
   "outputs": [
    {
     "data": {
      "text/html": [
       "<table class=\"dataframe\">\n",
       "<caption>A pa_synoptic: 6 × 44</caption>\n",
       "<thead>\n",
       "\t<tr><th scope=col>ID</th><th scope=col>label</th><th scope=col>DEVICE_LOCATIONTYPE</th><th scope=col>THINGSPEAK_PRIMARY_ID</th><th scope=col>THINGSPEAK_PRIMARY_ID_READ_KEY</th><th scope=col>THINGSPEAK_SECONDARY_ID</th><th scope=col>THINGSPEAK_SECONDARY_ID_READ_KEY</th><th scope=col>latitude</th><th scope=col>longitude</th><th scope=col>pm25</th><th scope=col>⋯</th><th scope=col>deviceID</th><th scope=col>locationID</th><th scope=col>deviceDeploymentID</th><th scope=col>airDistrict</th><th scope=col>pwfsl_closestDistance</th><th scope=col>pwfsl_closestMonitorID</th><th scope=col>sensorManufacturer</th><th scope=col>targetPollutant</th><th scope=col>technologyType</th><th scope=col>communityRegion</th></tr>\n",
       "\t<tr><th scope=col>&lt;chr&gt;</th><th scope=col>&lt;chr&gt;</th><th scope=col>&lt;chr&gt;</th><th scope=col>&lt;chr&gt;</th><th scope=col>&lt;chr&gt;</th><th scope=col>&lt;chr&gt;</th><th scope=col>&lt;chr&gt;</th><th scope=col>&lt;dbl&gt;</th><th scope=col>&lt;dbl&gt;</th><th scope=col>&lt;dbl&gt;</th><th scope=col>⋯</th><th scope=col>&lt;chr&gt;</th><th scope=col>&lt;chr&gt;</th><th scope=col>&lt;chr&gt;</th><th scope=col>&lt;chr&gt;</th><th scope=col>&lt;dbl&gt;</th><th scope=col>&lt;chr&gt;</th><th scope=col>&lt;chr&gt;</th><th scope=col>&lt;chr&gt;</th><th scope=col>&lt;chr&gt;</th><th scope=col>&lt;chr&gt;</th></tr>\n",
       "</thead>\n",
       "<tbody>\n",
       "\t<tr><td>48845</td><td>SAMOSA_0169</td><td>outside</td><td>1000149</td><td>D54J9A8MVBQV78B6</td><td>1000150</td><td>P4QPQLFDZ234KL7Z</td><td>28.53913</td><td>77.18288</td><td>26.51</td><td>⋯</td><td>48845</td><td>0ccb7bf115990411</td><td>0ccb7bf115990411_48845</td><td>NA</td><td>NA</td><td>NA</td><td>Purple Air</td><td>PM</td><td>consumer-grade</td><td>NA</td></tr>\n",
       "\t<tr><td>48981</td><td>SAMOSA_0171</td><td>outside</td><td>1000563</td><td>VPT1OVL1038Q9NMH</td><td>1000564</td><td>QFMIW0JYEDSFIEFT</td><td>28.54673</td><td>77.19125</td><td>23.63</td><td>⋯</td><td>48981</td><td>1a2339b1e6b90275</td><td>1a2339b1e6b90275_48981</td><td>NA</td><td>NA</td><td>NA</td><td>Purple Air</td><td>PM</td><td>consumer-grade</td><td>NA</td></tr>\n",
       "\t<tr><td>48853</td><td>SAMOSA_0172</td><td>outside</td><td>1000165</td><td>9FG8QY9A48AXDPBH</td><td>1000166</td><td>PSK6LR1RNPBPEAUQ</td><td>28.54763</td><td>77.19039</td><td>27.82</td><td>⋯</td><td>48853</td><td>c13fbe948cb73979</td><td>c13fbe948cb73979_48853</td><td>NA</td><td>NA</td><td>NA</td><td>Purple Air</td><td>PM</td><td>consumer-grade</td><td>NA</td></tr>\n",
       "\t<tr><td>48869</td><td>SAMOSA_0173</td><td>outside</td><td>1000197</td><td>4O2OC2I7PQ4CZESL</td><td>1000198</td><td>54J55ZRBZ99NT9NL</td><td>28.54684</td><td>77.19091</td><td>26.91</td><td>⋯</td><td>48869</td><td>e7bc2f3035de3615</td><td>e7bc2f3035de3615_48869</td><td>NA</td><td>NA</td><td>NA</td><td>Purple Air</td><td>PM</td><td>consumer-grade</td><td>NA</td></tr>\n",
       "\t<tr><td>49015</td><td>SAMOSA_0174</td><td>outside</td><td>1001471</td><td>ALUYKXPSPGAV0UQV</td><td>1001472</td><td>1964VNYXPQ1OK05V</td><td>28.54559</td><td>77.19117</td><td>24.56</td><td>⋯</td><td>49015</td><td>8ffe0555392f518b</td><td>8ffe0555392f518b_49015</td><td>NA</td><td>NA</td><td>NA</td><td>Purple Air</td><td>PM</td><td>consumer-grade</td><td>NA</td></tr>\n",
       "\t<tr><td>48995</td><td>SAMOSA_170 </td><td>outside</td><td>1000591</td><td>0GLJHRN30T0APYI0</td><td>1000592</td><td>1YIJ4I5Z03B00V3X</td><td>28.54292</td><td>77.17923</td><td>27.19</td><td>⋯</td><td>48995</td><td>a919efb52c4d1ffc</td><td>a919efb52c4d1ffc_48995</td><td>NA</td><td>NA</td><td>NA</td><td>Purple Air</td><td>PM</td><td>consumer-grade</td><td>NA</td></tr>\n",
       "</tbody>\n",
       "</table>\n"
      ],
      "text/latex": [
       "A pa\\_synoptic: 6 × 44\n",
       "\\begin{tabular}{lllllllllllllllllllll}\n",
       " ID & label & DEVICE\\_LOCATIONTYPE & THINGSPEAK\\_PRIMARY\\_ID & THINGSPEAK\\_PRIMARY\\_ID\\_READ\\_KEY & THINGSPEAK\\_SECONDARY\\_ID & THINGSPEAK\\_SECONDARY\\_ID\\_READ\\_KEY & latitude & longitude & pm25 & ⋯ & deviceID & locationID & deviceDeploymentID & airDistrict & pwfsl\\_closestDistance & pwfsl\\_closestMonitorID & sensorManufacturer & targetPollutant & technologyType & communityRegion\\\\\n",
       " <chr> & <chr> & <chr> & <chr> & <chr> & <chr> & <chr> & <dbl> & <dbl> & <dbl> & ⋯ & <chr> & <chr> & <chr> & <chr> & <dbl> & <chr> & <chr> & <chr> & <chr> & <chr>\\\\\n",
       "\\hline\n",
       "\t 48845 & SAMOSA\\_0169 & outside & 1000149 & D54J9A8MVBQV78B6 & 1000150 & P4QPQLFDZ234KL7Z & 28.53913 & 77.18288 & 26.51 & ⋯ & 48845 & 0ccb7bf115990411 & 0ccb7bf115990411\\_48845 & NA & NA & NA & Purple Air & PM & consumer-grade & NA\\\\\n",
       "\t 48981 & SAMOSA\\_0171 & outside & 1000563 & VPT1OVL1038Q9NMH & 1000564 & QFMIW0JYEDSFIEFT & 28.54673 & 77.19125 & 23.63 & ⋯ & 48981 & 1a2339b1e6b90275 & 1a2339b1e6b90275\\_48981 & NA & NA & NA & Purple Air & PM & consumer-grade & NA\\\\\n",
       "\t 48853 & SAMOSA\\_0172 & outside & 1000165 & 9FG8QY9A48AXDPBH & 1000166 & PSK6LR1RNPBPEAUQ & 28.54763 & 77.19039 & 27.82 & ⋯ & 48853 & c13fbe948cb73979 & c13fbe948cb73979\\_48853 & NA & NA & NA & Purple Air & PM & consumer-grade & NA\\\\\n",
       "\t 48869 & SAMOSA\\_0173 & outside & 1000197 & 4O2OC2I7PQ4CZESL & 1000198 & 54J55ZRBZ99NT9NL & 28.54684 & 77.19091 & 26.91 & ⋯ & 48869 & e7bc2f3035de3615 & e7bc2f3035de3615\\_48869 & NA & NA & NA & Purple Air & PM & consumer-grade & NA\\\\\n",
       "\t 49015 & SAMOSA\\_0174 & outside & 1001471 & ALUYKXPSPGAV0UQV & 1001472 & 1964VNYXPQ1OK05V & 28.54559 & 77.19117 & 24.56 & ⋯ & 49015 & 8ffe0555392f518b & 8ffe0555392f518b\\_49015 & NA & NA & NA & Purple Air & PM & consumer-grade & NA\\\\\n",
       "\t 48995 & SAMOSA\\_170  & outside & 1000591 & 0GLJHRN30T0APYI0 & 1000592 & 1YIJ4I5Z03B00V3X & 28.54292 & 77.17923 & 27.19 & ⋯ & 48995 & a919efb52c4d1ffc & a919efb52c4d1ffc\\_48995 & NA & NA & NA & Purple Air & PM & consumer-grade & NA\\\\\n",
       "\\end{tabular}\n"
      ],
      "text/markdown": [
       "\n",
       "A pa_synoptic: 6 × 44\n",
       "\n",
       "| ID &lt;chr&gt; | label &lt;chr&gt; | DEVICE_LOCATIONTYPE &lt;chr&gt; | THINGSPEAK_PRIMARY_ID &lt;chr&gt; | THINGSPEAK_PRIMARY_ID_READ_KEY &lt;chr&gt; | THINGSPEAK_SECONDARY_ID &lt;chr&gt; | THINGSPEAK_SECONDARY_ID_READ_KEY &lt;chr&gt; | latitude &lt;dbl&gt; | longitude &lt;dbl&gt; | pm25 &lt;dbl&gt; | ⋯ ⋯ | deviceID &lt;chr&gt; | locationID &lt;chr&gt; | deviceDeploymentID &lt;chr&gt; | airDistrict &lt;chr&gt; | pwfsl_closestDistance &lt;dbl&gt; | pwfsl_closestMonitorID &lt;chr&gt; | sensorManufacturer &lt;chr&gt; | targetPollutant &lt;chr&gt; | technologyType &lt;chr&gt; | communityRegion &lt;chr&gt; |\n",
       "|---|---|---|---|---|---|---|---|---|---|---|---|---|---|---|---|---|---|---|---|---|\n",
       "| 48845 | SAMOSA_0169 | outside | 1000149 | D54J9A8MVBQV78B6 | 1000150 | P4QPQLFDZ234KL7Z | 28.53913 | 77.18288 | 26.51 | ⋯ | 48845 | 0ccb7bf115990411 | 0ccb7bf115990411_48845 | NA | NA | NA | Purple Air | PM | consumer-grade | NA |\n",
       "| 48981 | SAMOSA_0171 | outside | 1000563 | VPT1OVL1038Q9NMH | 1000564 | QFMIW0JYEDSFIEFT | 28.54673 | 77.19125 | 23.63 | ⋯ | 48981 | 1a2339b1e6b90275 | 1a2339b1e6b90275_48981 | NA | NA | NA | Purple Air | PM | consumer-grade | NA |\n",
       "| 48853 | SAMOSA_0172 | outside | 1000165 | 9FG8QY9A48AXDPBH | 1000166 | PSK6LR1RNPBPEAUQ | 28.54763 | 77.19039 | 27.82 | ⋯ | 48853 | c13fbe948cb73979 | c13fbe948cb73979_48853 | NA | NA | NA | Purple Air | PM | consumer-grade | NA |\n",
       "| 48869 | SAMOSA_0173 | outside | 1000197 | 4O2OC2I7PQ4CZESL | 1000198 | 54J55ZRBZ99NT9NL | 28.54684 | 77.19091 | 26.91 | ⋯ | 48869 | e7bc2f3035de3615 | e7bc2f3035de3615_48869 | NA | NA | NA | Purple Air | PM | consumer-grade | NA |\n",
       "| 49015 | SAMOSA_0174 | outside | 1001471 | ALUYKXPSPGAV0UQV | 1001472 | 1964VNYXPQ1OK05V | 28.54559 | 77.19117 | 24.56 | ⋯ | 49015 | 8ffe0555392f518b | 8ffe0555392f518b_49015 | NA | NA | NA | Purple Air | PM | consumer-grade | NA |\n",
       "| 48995 | SAMOSA_170  | outside | 1000591 | 0GLJHRN30T0APYI0 | 1000592 | 1YIJ4I5Z03B00V3X | 28.54292 | 77.17923 | 27.19 | ⋯ | 48995 | a919efb52c4d1ffc | a919efb52c4d1ffc_48995 | NA | NA | NA | Purple Air | PM | consumer-grade | NA |\n",
       "\n"
      ],
      "text/plain": [
       "  ID    label       DEVICE_LOCATIONTYPE THINGSPEAK_PRIMARY_ID\n",
       "1 48845 SAMOSA_0169 outside             1000149              \n",
       "2 48981 SAMOSA_0171 outside             1000563              \n",
       "3 48853 SAMOSA_0172 outside             1000165              \n",
       "4 48869 SAMOSA_0173 outside             1000197              \n",
       "5 49015 SAMOSA_0174 outside             1001471              \n",
       "6 48995 SAMOSA_170  outside             1000591              \n",
       "  THINGSPEAK_PRIMARY_ID_READ_KEY THINGSPEAK_SECONDARY_ID\n",
       "1 D54J9A8MVBQV78B6               1000150                \n",
       "2 VPT1OVL1038Q9NMH               1000564                \n",
       "3 9FG8QY9A48AXDPBH               1000166                \n",
       "4 4O2OC2I7PQ4CZESL               1000198                \n",
       "5 ALUYKXPSPGAV0UQV               1001472                \n",
       "6 0GLJHRN30T0APYI0               1000592                \n",
       "  THINGSPEAK_SECONDARY_ID_READ_KEY latitude longitude pm25  ⋯ deviceID\n",
       "1 P4QPQLFDZ234KL7Z                 28.53913 77.18288  26.51 ⋯ 48845   \n",
       "2 QFMIW0JYEDSFIEFT                 28.54673 77.19125  23.63 ⋯ 48981   \n",
       "3 PSK6LR1RNPBPEAUQ                 28.54763 77.19039  27.82 ⋯ 48853   \n",
       "4 54J55ZRBZ99NT9NL                 28.54684 77.19091  26.91 ⋯ 48869   \n",
       "5 1964VNYXPQ1OK05V                 28.54559 77.19117  24.56 ⋯ 49015   \n",
       "6 1YIJ4I5Z03B00V3X                 28.54292 77.17923  27.19 ⋯ 48995   \n",
       "  locationID       deviceDeploymentID     airDistrict pwfsl_closestDistance\n",
       "1 0ccb7bf115990411 0ccb7bf115990411_48845 NA          NA                   \n",
       "2 1a2339b1e6b90275 1a2339b1e6b90275_48981 NA          NA                   \n",
       "3 c13fbe948cb73979 c13fbe948cb73979_48853 NA          NA                   \n",
       "4 e7bc2f3035de3615 e7bc2f3035de3615_48869 NA          NA                   \n",
       "5 8ffe0555392f518b 8ffe0555392f518b_49015 NA          NA                   \n",
       "6 a919efb52c4d1ffc a919efb52c4d1ffc_48995 NA          NA                   \n",
       "  pwfsl_closestMonitorID sensorManufacturer targetPollutant technologyType\n",
       "1 NA                     Purple Air         PM              consumer-grade\n",
       "2 NA                     Purple Air         PM              consumer-grade\n",
       "3 NA                     Purple Air         PM              consumer-grade\n",
       "4 NA                     Purple Air         PM              consumer-grade\n",
       "5 NA                     Purple Air         PM              consumer-grade\n",
       "6 NA                     Purple Air         PM              consumer-grade\n",
       "  communityRegion\n",
       "1 NA             \n",
       "2 NA             \n",
       "3 NA             \n",
       "4 NA             \n",
       "5 NA             \n",
       "6 NA             "
      ]
     },
     "metadata": {},
     "output_type": "display_data"
    }
   ],
   "source": [
    "SAMOSA_pas = pas%>% pas_filter(!grepl(\"B\",label),grepl(\"SAMOSA\",label))\n",
    "Wifi = read.csv(\"/home/ubuntu/Git/Sensor_Alert/Data/WIFI_SAMOSA.csv\",col.names=c(\"label\",\"Dongle\"))\n",
    "tail(SAMOSA_pas)\n"
   ]
  },
  {
   "cell_type": "code",
   "execution_count": 28,
   "id": "1fd1b5b9-c220-4e62-aadd-15dca732f972",
   "metadata": {},
   "outputs": [
    {
     "data": {
      "text/html": [
       "97"
      ],
      "text/latex": [
       "97"
      ],
      "text/markdown": [
       "97"
      ],
      "text/plain": [
       "[1] 97"
      ]
     },
     "metadata": {},
     "output_type": "display_data"
    }
   ],
   "source": [
    "#Send notification to slack channel\n",
    "time <- Sys.time()\n",
    "## Changing the time zone to UTC\n",
    "time <- with_tz(time,tz=\"Asia/Kolkata\")\n",
    "## Creating one hour lag for the test (If any sensor is inactive for more than an hour we send an alert)\n",
    "time_check = time-minutes(5)\n",
    "## Finding any inactive sensors\n",
    "Inactive_sensors = SAMOSA_pas %>% filter(time_check>lastSeenDate) %>% select(label,lastSeenDate)%>%\n",
    "left_join(Wifi,by=\"label\")\n",
    "dim(Inactive_sensors)[1]"
   ]
  },
  {
   "cell_type": "code",
   "execution_count": 29,
   "id": "867a3971-cf0b-487a-b1e3-46b39c17f91a",
   "metadata": {},
   "outputs": [
    {
     "data": {
      "text/html": [
       "'Successfully connected to Slack'"
      ],
      "text/latex": [
       "'Successfully connected to Slack'"
      ],
      "text/markdown": [
       "'Successfully connected to Slack'"
      ],
      "text/plain": [
       "[1] \"Successfully connected to Slack\""
      ]
     },
     "metadata": {},
     "output_type": "display_data"
    }
   ],
   "source": [
    "## Adding the R environment file. This file contains the API used for analysis\n",
    "readRenviron(\"/home/ubuntu/Git/API.Renviron\")\n",
    "\n",
    "slackr_setup(channel = \"pa_sensor_alert\",\n",
    "             bot_user_oauth_token =  Sys.getenv('bot_user_oauth_token'),\n",
    "             incoming_webhook_url = Sys.getenv('incoming_webhook_url'))"
   ]
  },
  {
   "cell_type": "code",
   "execution_count": 30,
   "id": "12b728ab-835a-4e5d-9dd7-ca03200cb96e",
   "metadata": {},
   "outputs": [],
   "source": [
    "if (dim(Inactive_sensors)[1] > 0){\n",
    "    \n",
    "    slackr(\"Time of Query\",time)\n",
    "    slackr(\"Total Inactive sensors\", dim(Inactive_sensors)[1])\n",
    "    ## Sending the Slack alert if the sensors is inactive at any moment\n",
    "    slackr(\"Name of Inactive sensors at the moment\", pander::pandoc.table(Inactive_sensors))\n",
    "}"
   ]
  },
  {
   "cell_type": "code",
   "execution_count": null,
   "id": "b680f5b6-3c94-442f-9a4c-e8072075607e",
   "metadata": {},
   "outputs": [],
   "source": []
  }
 ],
 "metadata": {
  "kernelspec": {
   "display_name": "R [conda env:r-env]",
   "language": "R",
   "name": "conda-env-r-env-r"
  },
  "language_info": {
   "codemirror_mode": "r",
   "file_extension": ".r",
   "mimetype": "text/x-r-source",
   "name": "R",
   "pygments_lexer": "r",
   "version": "3.6.3"
  }
 },
 "nbformat": 4,
 "nbformat_minor": 5
}
