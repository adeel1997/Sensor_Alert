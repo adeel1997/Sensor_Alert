{
 "cells": [
  {
   "cell_type": "code",
   "execution_count": 55,
   "id": "b5dbe923-8bdb-4b01-9048-a9e54485831e",
   "metadata": {},
   "outputs": [],
   "source": [
    "## Loading relevant packages\n",
    "library(slackr)\n",
    "library(AirSensor)\n",
    "library(MazamaSpatialUtils)\n",
    "library(lubridate)\n",
    "library(dplyr)\n",
    "\n",
    "## Loading Spatial data \n",
    "## More details on Air Sensor Git hub page if it's not setup already\n",
    "initializeMazamaSpatialUtils(\"/home/ubuntu/Git/Sensor_Alert/Spatial_data\")\n",
    "\n",
    "## Settng the Country Code API link and look back days \n",
    "pas <- pas_createNew(countryCodes = \"IN\",\n",
    "                     baseUrl = 'https://www.purpleair.com/json?all=true',lookbackDays = 30,\n",
    "                     includePWFSL = F)\n",
    "## Changing the time zone to Asia/Kolkata\n",
    "pas$lastSeenDate <- with_tz(pas$lastSeenDate,tz=\"Asia/Kolkata\")\n",
    "\n"
   ]
  },
  {
   "cell_type": "code",
   "execution_count": 56,
   "id": "a61cac53-c1cc-4fdc-be93-67877c7d1d70",
   "metadata": {},
   "outputs": [
    {
     "data": {
      "text/html": [
       "<table class=\"dataframe\">\n",
       "<caption>A pa_synoptic: 6 × 44</caption>\n",
       "<thead>\n",
       "\t<tr><th scope=col>ID</th><th scope=col>label</th><th scope=col>DEVICE_LOCATIONTYPE</th><th scope=col>THINGSPEAK_PRIMARY_ID</th><th scope=col>THINGSPEAK_PRIMARY_ID_READ_KEY</th><th scope=col>THINGSPEAK_SECONDARY_ID</th><th scope=col>THINGSPEAK_SECONDARY_ID_READ_KEY</th><th scope=col>latitude</th><th scope=col>longitude</th><th scope=col>pm25</th><th scope=col>⋯</th><th scope=col>deviceID</th><th scope=col>locationID</th><th scope=col>deviceDeploymentID</th><th scope=col>airDistrict</th><th scope=col>pwfsl_closestDistance</th><th scope=col>pwfsl_closestMonitorID</th><th scope=col>sensorManufacturer</th><th scope=col>targetPollutant</th><th scope=col>technologyType</th><th scope=col>communityRegion</th></tr>\n",
       "\t<tr><th scope=col>&lt;chr&gt;</th><th scope=col>&lt;chr&gt;</th><th scope=col>&lt;chr&gt;</th><th scope=col>&lt;chr&gt;</th><th scope=col>&lt;chr&gt;</th><th scope=col>&lt;chr&gt;</th><th scope=col>&lt;chr&gt;</th><th scope=col>&lt;dbl&gt;</th><th scope=col>&lt;dbl&gt;</th><th scope=col>&lt;dbl&gt;</th><th scope=col>⋯</th><th scope=col>&lt;chr&gt;</th><th scope=col>&lt;chr&gt;</th><th scope=col>&lt;chr&gt;</th><th scope=col>&lt;chr&gt;</th><th scope=col>&lt;dbl&gt;</th><th scope=col>&lt;chr&gt;</th><th scope=col>&lt;chr&gt;</th><th scope=col>&lt;chr&gt;</th><th scope=col>&lt;chr&gt;</th><th scope=col>&lt;chr&gt;</th></tr>\n",
       "</thead>\n",
       "<tbody>\n",
       "\t<tr><td>97689</td><td>SAMOSA_0049</td><td>outside</td><td>1287287</td><td>SZQ6RG28WORNOL7M</td><td>1287288</td><td>1MH4T3WJCANV7PLM</td><td>28.54758</td><td>77.19093</td><td>21.72</td><td>⋯</td><td>97689</td><td>3c04d0c7632e85f5</td><td>3c04d0c7632e85f5_97689</td><td>NA</td><td>NA</td><td>NA</td><td>Purple Air</td><td>PM</td><td>consumer-grade</td><td>NA</td></tr>\n",
       "\t<tr><td>97907</td><td>SAMOSA_0050</td><td>outside</td><td>1287790</td><td>R3KAPF9GP9XEVA5D</td><td>1287791</td><td>I9A3FTKH1DVHTTS8</td><td>28.54748</td><td>77.19141</td><td>23.95</td><td>⋯</td><td>97907</td><td>6c9bc0c5f03d8e83</td><td>6c9bc0c5f03d8e83_97907</td><td>NA</td><td>NA</td><td>NA</td><td>Purple Air</td><td>PM</td><td>consumer-grade</td><td>NA</td></tr>\n",
       "\t<tr><td>97697</td><td>SAMOSA_0051</td><td>outside</td><td>1287303</td><td>BK5LRXVU9LNWTDGS</td><td>1287304</td><td>3ZZW3Q9YMFN5TBDT</td><td>28.54029</td><td>77.18483</td><td>26.02</td><td>⋯</td><td>97697</td><td>103372679e42fe77</td><td>103372679e42fe77_97697</td><td>NA</td><td>NA</td><td>NA</td><td>Purple Air</td><td>PM</td><td>consumer-grade</td><td>NA</td></tr>\n",
       "\t<tr><td>97753</td><td>SAMOSA_0052</td><td>outside</td><td>1287437</td><td>988HE74NTKFBN8MC</td><td>1287438</td><td>17KRJDCG7LYLLAHK</td><td>28.54744</td><td>77.19199</td><td>29.28</td><td>⋯</td><td>97753</td><td>8c9420d1c423e4bd</td><td>8c9420d1c423e4bd_97753</td><td>NA</td><td>NA</td><td>NA</td><td>Purple Air</td><td>PM</td><td>consumer-grade</td><td>NA</td></tr>\n",
       "\t<tr><td>97989</td><td>SAMOSA_0054</td><td>outside</td><td>1287990</td><td>N6PVESJWBK31CCEN</td><td>1287991</td><td>XE9JB4FEIGLO1IIN</td><td>28.54749</td><td>77.19135</td><td>24.28</td><td>⋯</td><td>97989</td><td>f3a2c9631da30e7d</td><td>f3a2c9631da30e7d_97989</td><td>NA</td><td>NA</td><td>NA</td><td>Purple Air</td><td>PM</td><td>consumer-grade</td><td>NA</td></tr>\n",
       "\t<tr><td>97911</td><td>SAMOSA_0055</td><td>outside</td><td>1287801</td><td>9K58CZTOE1CQGLEC</td><td>1287802</td><td>N9LLDK29AYM9FB49</td><td>28.54673</td><td>77.18855</td><td>25.76</td><td>⋯</td><td>97911</td><td>2d9016624b6c451c</td><td>2d9016624b6c451c_97911</td><td>NA</td><td>NA</td><td>NA</td><td>Purple Air</td><td>PM</td><td>consumer-grade</td><td>NA</td></tr>\n",
       "</tbody>\n",
       "</table>\n"
      ],
      "text/latex": [
       "A pa\\_synoptic: 6 × 44\n",
       "\\begin{tabular}{lllllllllllllllllllll}\n",
       " ID & label & DEVICE\\_LOCATIONTYPE & THINGSPEAK\\_PRIMARY\\_ID & THINGSPEAK\\_PRIMARY\\_ID\\_READ\\_KEY & THINGSPEAK\\_SECONDARY\\_ID & THINGSPEAK\\_SECONDARY\\_ID\\_READ\\_KEY & latitude & longitude & pm25 & ⋯ & deviceID & locationID & deviceDeploymentID & airDistrict & pwfsl\\_closestDistance & pwfsl\\_closestMonitorID & sensorManufacturer & targetPollutant & technologyType & communityRegion\\\\\n",
       " <chr> & <chr> & <chr> & <chr> & <chr> & <chr> & <chr> & <dbl> & <dbl> & <dbl> & ⋯ & <chr> & <chr> & <chr> & <chr> & <dbl> & <chr> & <chr> & <chr> & <chr> & <chr>\\\\\n",
       "\\hline\n",
       "\t 97689 & SAMOSA\\_0049 & outside & 1287287 & SZQ6RG28WORNOL7M & 1287288 & 1MH4T3WJCANV7PLM & 28.54758 & 77.19093 & 21.72 & ⋯ & 97689 & 3c04d0c7632e85f5 & 3c04d0c7632e85f5\\_97689 & NA & NA & NA & Purple Air & PM & consumer-grade & NA\\\\\n",
       "\t 97907 & SAMOSA\\_0050 & outside & 1287790 & R3KAPF9GP9XEVA5D & 1287791 & I9A3FTKH1DVHTTS8 & 28.54748 & 77.19141 & 23.95 & ⋯ & 97907 & 6c9bc0c5f03d8e83 & 6c9bc0c5f03d8e83\\_97907 & NA & NA & NA & Purple Air & PM & consumer-grade & NA\\\\\n",
       "\t 97697 & SAMOSA\\_0051 & outside & 1287303 & BK5LRXVU9LNWTDGS & 1287304 & 3ZZW3Q9YMFN5TBDT & 28.54029 & 77.18483 & 26.02 & ⋯ & 97697 & 103372679e42fe77 & 103372679e42fe77\\_97697 & NA & NA & NA & Purple Air & PM & consumer-grade & NA\\\\\n",
       "\t 97753 & SAMOSA\\_0052 & outside & 1287437 & 988HE74NTKFBN8MC & 1287438 & 17KRJDCG7LYLLAHK & 28.54744 & 77.19199 & 29.28 & ⋯ & 97753 & 8c9420d1c423e4bd & 8c9420d1c423e4bd\\_97753 & NA & NA & NA & Purple Air & PM & consumer-grade & NA\\\\\n",
       "\t 97989 & SAMOSA\\_0054 & outside & 1287990 & N6PVESJWBK31CCEN & 1287991 & XE9JB4FEIGLO1IIN & 28.54749 & 77.19135 & 24.28 & ⋯ & 97989 & f3a2c9631da30e7d & f3a2c9631da30e7d\\_97989 & NA & NA & NA & Purple Air & PM & consumer-grade & NA\\\\\n",
       "\t 97911 & SAMOSA\\_0055 & outside & 1287801 & 9K58CZTOE1CQGLEC & 1287802 & N9LLDK29AYM9FB49 & 28.54673 & 77.18855 & 25.76 & ⋯ & 97911 & 2d9016624b6c451c & 2d9016624b6c451c\\_97911 & NA & NA & NA & Purple Air & PM & consumer-grade & NA\\\\\n",
       "\\end{tabular}\n"
      ],
      "text/markdown": [
       "\n",
       "A pa_synoptic: 6 × 44\n",
       "\n",
       "| ID &lt;chr&gt; | label &lt;chr&gt; | DEVICE_LOCATIONTYPE &lt;chr&gt; | THINGSPEAK_PRIMARY_ID &lt;chr&gt; | THINGSPEAK_PRIMARY_ID_READ_KEY &lt;chr&gt; | THINGSPEAK_SECONDARY_ID &lt;chr&gt; | THINGSPEAK_SECONDARY_ID_READ_KEY &lt;chr&gt; | latitude &lt;dbl&gt; | longitude &lt;dbl&gt; | pm25 &lt;dbl&gt; | ⋯ ⋯ | deviceID &lt;chr&gt; | locationID &lt;chr&gt; | deviceDeploymentID &lt;chr&gt; | airDistrict &lt;chr&gt; | pwfsl_closestDistance &lt;dbl&gt; | pwfsl_closestMonitorID &lt;chr&gt; | sensorManufacturer &lt;chr&gt; | targetPollutant &lt;chr&gt; | technologyType &lt;chr&gt; | communityRegion &lt;chr&gt; |\n",
       "|---|---|---|---|---|---|---|---|---|---|---|---|---|---|---|---|---|---|---|---|---|\n",
       "| 97689 | SAMOSA_0049 | outside | 1287287 | SZQ6RG28WORNOL7M | 1287288 | 1MH4T3WJCANV7PLM | 28.54758 | 77.19093 | 21.72 | ⋯ | 97689 | 3c04d0c7632e85f5 | 3c04d0c7632e85f5_97689 | NA | NA | NA | Purple Air | PM | consumer-grade | NA |\n",
       "| 97907 | SAMOSA_0050 | outside | 1287790 | R3KAPF9GP9XEVA5D | 1287791 | I9A3FTKH1DVHTTS8 | 28.54748 | 77.19141 | 23.95 | ⋯ | 97907 | 6c9bc0c5f03d8e83 | 6c9bc0c5f03d8e83_97907 | NA | NA | NA | Purple Air | PM | consumer-grade | NA |\n",
       "| 97697 | SAMOSA_0051 | outside | 1287303 | BK5LRXVU9LNWTDGS | 1287304 | 3ZZW3Q9YMFN5TBDT | 28.54029 | 77.18483 | 26.02 | ⋯ | 97697 | 103372679e42fe77 | 103372679e42fe77_97697 | NA | NA | NA | Purple Air | PM | consumer-grade | NA |\n",
       "| 97753 | SAMOSA_0052 | outside | 1287437 | 988HE74NTKFBN8MC | 1287438 | 17KRJDCG7LYLLAHK | 28.54744 | 77.19199 | 29.28 | ⋯ | 97753 | 8c9420d1c423e4bd | 8c9420d1c423e4bd_97753 | NA | NA | NA | Purple Air | PM | consumer-grade | NA |\n",
       "| 97989 | SAMOSA_0054 | outside | 1287990 | N6PVESJWBK31CCEN | 1287991 | XE9JB4FEIGLO1IIN | 28.54749 | 77.19135 | 24.28 | ⋯ | 97989 | f3a2c9631da30e7d | f3a2c9631da30e7d_97989 | NA | NA | NA | Purple Air | PM | consumer-grade | NA |\n",
       "| 97911 | SAMOSA_0055 | outside | 1287801 | 9K58CZTOE1CQGLEC | 1287802 | N9LLDK29AYM9FB49 | 28.54673 | 77.18855 | 25.76 | ⋯ | 97911 | 2d9016624b6c451c | 2d9016624b6c451c_97911 | NA | NA | NA | Purple Air | PM | consumer-grade | NA |\n",
       "\n"
      ],
      "text/plain": [
       "  ID    label       DEVICE_LOCATIONTYPE THINGSPEAK_PRIMARY_ID\n",
       "1 97689 SAMOSA_0049 outside             1287287              \n",
       "2 97907 SAMOSA_0050 outside             1287790              \n",
       "3 97697 SAMOSA_0051 outside             1287303              \n",
       "4 97753 SAMOSA_0052 outside             1287437              \n",
       "5 97989 SAMOSA_0054 outside             1287990              \n",
       "6 97911 SAMOSA_0055 outside             1287801              \n",
       "  THINGSPEAK_PRIMARY_ID_READ_KEY THINGSPEAK_SECONDARY_ID\n",
       "1 SZQ6RG28WORNOL7M               1287288                \n",
       "2 R3KAPF9GP9XEVA5D               1287791                \n",
       "3 BK5LRXVU9LNWTDGS               1287304                \n",
       "4 988HE74NTKFBN8MC               1287438                \n",
       "5 N6PVESJWBK31CCEN               1287991                \n",
       "6 9K58CZTOE1CQGLEC               1287802                \n",
       "  THINGSPEAK_SECONDARY_ID_READ_KEY latitude longitude pm25  ⋯ deviceID\n",
       "1 1MH4T3WJCANV7PLM                 28.54758 77.19093  21.72 ⋯ 97689   \n",
       "2 I9A3FTKH1DVHTTS8                 28.54748 77.19141  23.95 ⋯ 97907   \n",
       "3 3ZZW3Q9YMFN5TBDT                 28.54029 77.18483  26.02 ⋯ 97697   \n",
       "4 17KRJDCG7LYLLAHK                 28.54744 77.19199  29.28 ⋯ 97753   \n",
       "5 XE9JB4FEIGLO1IIN                 28.54749 77.19135  24.28 ⋯ 97989   \n",
       "6 N9LLDK29AYM9FB49                 28.54673 77.18855  25.76 ⋯ 97911   \n",
       "  locationID       deviceDeploymentID     airDistrict pwfsl_closestDistance\n",
       "1 3c04d0c7632e85f5 3c04d0c7632e85f5_97689 NA          NA                   \n",
       "2 6c9bc0c5f03d8e83 6c9bc0c5f03d8e83_97907 NA          NA                   \n",
       "3 103372679e42fe77 103372679e42fe77_97697 NA          NA                   \n",
       "4 8c9420d1c423e4bd 8c9420d1c423e4bd_97753 NA          NA                   \n",
       "5 f3a2c9631da30e7d f3a2c9631da30e7d_97989 NA          NA                   \n",
       "6 2d9016624b6c451c 2d9016624b6c451c_97911 NA          NA                   \n",
       "  pwfsl_closestMonitorID sensorManufacturer targetPollutant technologyType\n",
       "1 NA                     Purple Air         PM              consumer-grade\n",
       "2 NA                     Purple Air         PM              consumer-grade\n",
       "3 NA                     Purple Air         PM              consumer-grade\n",
       "4 NA                     Purple Air         PM              consumer-grade\n",
       "5 NA                     Purple Air         PM              consumer-grade\n",
       "6 NA                     Purple Air         PM              consumer-grade\n",
       "  communityRegion\n",
       "1 NA             \n",
       "2 NA             \n",
       "3 NA             \n",
       "4 NA             \n",
       "5 NA             \n",
       "6 NA             "
      ]
     },
     "metadata": {},
     "output_type": "display_data"
    }
   ],
   "source": [
    "SAMOSA_pas = pas%>% pas_filter(!grepl(\"B\",label),grepl(\"SAMOSA\",label))\n",
    "tail(SAMOSA_pas)\n"
   ]
  },
  {
   "cell_type": "code",
   "execution_count": 58,
   "id": "1fd1b5b9-c220-4e62-aadd-15dca732f972",
   "metadata": {},
   "outputs": [
    {
     "data": {
      "text/html": [
       "49"
      ],
      "text/latex": [
       "49"
      ],
      "text/markdown": [
       "49"
      ],
      "text/plain": [
       "[1] 49"
      ]
     },
     "metadata": {},
     "output_type": "display_data"
    }
   ],
   "source": [
    "#Send notification to slack channel\n",
    "time <- Sys.time()\n",
    "## Changing the time zone to UTC\n",
    "time <- with_tz(time,tz=\"Asia/Kolkata\")\n",
    "## Creating one hour lag for the test (If any sensor is inactive for more than an hour we send an alert)\n",
    "time_check = time-minutes(5)\n",
    "## Finding any inactive sensors\n",
    "Inactive_sensors = SAMOSA_pas %>% filter(time_check>lastSeenDate) %>% select(label,lastSeenDate)\n",
    "\n",
    "dim(Inactive_sensors)[1]"
   ]
  },
  {
   "cell_type": "code",
   "execution_count": 59,
   "id": "867a3971-cf0b-487a-b1e3-46b39c17f91a",
   "metadata": {},
   "outputs": [
    {
     "data": {
      "text/html": [
       "'Successfully connected to Slack'"
      ],
      "text/latex": [
       "'Successfully connected to Slack'"
      ],
      "text/markdown": [
       "'Successfully connected to Slack'"
      ],
      "text/plain": [
       "[1] \"Successfully connected to Slack\""
      ]
     },
     "metadata": {},
     "output_type": "display_data"
    }
   ],
   "source": [
    "## Adding the R environment file. This file contains the API used for analysis\n",
    "readRenviron(\"/home/ubuntu/Git/API.Renviron\")\n",
    "\n",
    "slackr_setup(channel = \"pa_sensor_alert\",\n",
    "             bot_user_oauth_token =  Sys.getenv('bot_user_oauth_token'),\n",
    "             incoming_webhook_url = Sys.getenv('incoming_webhook_url'))"
   ]
  },
  {
   "cell_type": "code",
   "execution_count": 45,
   "id": "12b728ab-835a-4e5d-9dd7-ca03200cb96e",
   "metadata": {},
   "outputs": [],
   "source": [
    "if (dim(Inactive_sensors)[1] > 0){\n",
    "    \n",
    "    slackr(\"Time of Query\",time)\n",
    "    ## Sending the Slack alert if the sensors is inactive at any moment\n",
    "    slackr(\"Name of Inactive sensors at the moment\", pander::pandoc.table(nrow(Inactive_sensors)))\n",
    "    slackr(\"Name of Inactive sensors at the moment\", pander::pandoc.table(Inactive_sensors))\n",
    "}"
   ]
  },
  {
   "cell_type": "code",
   "execution_count": 46,
   "id": "aca4cdbd-54d1-4a10-b14d-3f8b63cfb311",
   "metadata": {},
   "outputs": [],
   "source": []
  }
 ],
 "metadata": {
  "kernelspec": {
   "display_name": "R [conda env:r-env]",
   "language": "R",
   "name": "conda-env-r-env-r"
  },
  "language_info": {
   "codemirror_mode": "r",
   "file_extension": ".r",
   "mimetype": "text/x-r-source",
   "name": "R",
   "pygments_lexer": "r",
   "version": "3.6.3"
  }
 },
 "nbformat": 4,
 "nbformat_minor": 5
}
