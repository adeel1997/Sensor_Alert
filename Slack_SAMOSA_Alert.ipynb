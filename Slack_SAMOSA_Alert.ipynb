{
 "cells": [
  {
   "cell_type": "code",
   "execution_count": 44,
   "id": "b5dbe923-8bdb-4b01-9048-a9e54485831e",
   "metadata": {},
   "outputs": [],
   "source": [
    "## Loading relevant packages\n",
    "library(slackr)\n",
    "library(AirSensor)\n",
    "library(MazamaSpatialUtils)\n",
    "library(lubridate)\n",
    "library(dplyr)\n",
    "\n",
    "## Loading Spatial data \n",
    "## More details on Air Sensor Git hub page if it's not setup already\n",
    "initializeMazamaSpatialUtils(\"/home/ubuntu/Git/Sensor_Alert/Spatial_data\")\n",
    "\n",
    "## Settng the Country Code API link and look back days \n",
    "pas <- pas_createNew(countryCodes = \"IN\",\n",
    "                     baseUrl = 'https://www.purpleair.com/json?all=true',lookbackDays = 30,\n",
    "                     includePWFSL = F)\n",
    "## Changing the time zone to Asia/Kolkata\n",
    "pas$lastSeenDate <- with_tz(pas$lastSeenDate,tz=\"Asia/Kolkata\")\n",
    "\n"
   ]
  },
  {
   "cell_type": "code",
   "execution_count": 45,
   "id": "91729744-0b30-4eaf-8e87-9f7071374726",
   "metadata": {},
   "outputs": [
    {
     "data": {
      "text/html": [
       "<table class=\"dataframe\">\n",
       "<caption>A data.frame: 6 × 4</caption>\n",
       "<thead>\n",
       "\t<tr><th></th><th scope=col>Dongles</th><th scope=col>Sensor_name</th><th scope=col>MacID</th><th scope=col>Status</th></tr>\n",
       "\t<tr><th></th><th scope=col>&lt;fct&gt;</th><th scope=col>&lt;fct&gt;</th><th scope=col>&lt;fct&gt;</th><th scope=col>&lt;fct&gt;</th></tr>\n",
       "</thead>\n",
       "<tbody>\n",
       "\t<tr><th scope=row>1</th><td>SAMOSA1</td><td>SAMOSA_0060</td><td>10:52:1c:42:1d:de</td><td>Done</td></tr>\n",
       "\t<tr><th scope=row>2</th><td>SAMOSA1</td><td>SAMOSA_0061</td><td>F4:cf:a2:dd:42:d3</td><td>Done</td></tr>\n",
       "\t<tr><th scope=row>3</th><td>SAMOSA1</td><td>SAMOSA_0063</td><td>F4:cf:a2:dd:42:4c</td><td>Done</td></tr>\n",
       "\t<tr><th scope=row>4</th><td>SAMOSA1</td><td>SAMOSA_0065</td><td>50:2:91:f7:44:c4 </td><td>Done</td></tr>\n",
       "\t<tr><th scope=row>5</th><td>SAMOSA1</td><td>SAMOSA_0066</td><td>10:52:1c:41:88:33</td><td>Done</td></tr>\n",
       "\t<tr><th scope=row>6</th><td>SAMOSA2</td><td>SAMOSA_0067</td><td>A4:cf:12:f9:ff:d5</td><td>Done</td></tr>\n",
       "</tbody>\n",
       "</table>\n"
      ],
      "text/latex": [
       "A data.frame: 6 × 4\n",
       "\\begin{tabular}{r|llll}\n",
       "  & Dongles & Sensor\\_name & MacID & Status\\\\\n",
       "  & <fct> & <fct> & <fct> & <fct>\\\\\n",
       "\\hline\n",
       "\t1 & SAMOSA1 & SAMOSA\\_0060 & 10:52:1c:42:1d:de & Done\\\\\n",
       "\t2 & SAMOSA1 & SAMOSA\\_0061 & F4:cf:a2:dd:42:d3 & Done\\\\\n",
       "\t3 & SAMOSA1 & SAMOSA\\_0063 & F4:cf:a2:dd:42:4c & Done\\\\\n",
       "\t4 & SAMOSA1 & SAMOSA\\_0065 & 50:2:91:f7:44:c4  & Done\\\\\n",
       "\t5 & SAMOSA1 & SAMOSA\\_0066 & 10:52:1c:41:88:33 & Done\\\\\n",
       "\t6 & SAMOSA2 & SAMOSA\\_0067 & A4:cf:12:f9:ff:d5 & Done\\\\\n",
       "\\end{tabular}\n"
      ],
      "text/markdown": [
       "\n",
       "A data.frame: 6 × 4\n",
       "\n",
       "| <!--/--> | Dongles &lt;fct&gt; | Sensor_name &lt;fct&gt; | MacID &lt;fct&gt; | Status &lt;fct&gt; |\n",
       "|---|---|---|---|---|\n",
       "| 1 | SAMOSA1 | SAMOSA_0060 | 10:52:1c:42:1d:de | Done |\n",
       "| 2 | SAMOSA1 | SAMOSA_0061 | F4:cf:a2:dd:42:d3 | Done |\n",
       "| 3 | SAMOSA1 | SAMOSA_0063 | F4:cf:a2:dd:42:4c | Done |\n",
       "| 4 | SAMOSA1 | SAMOSA_0065 | 50:2:91:f7:44:c4  | Done |\n",
       "| 5 | SAMOSA1 | SAMOSA_0066 | 10:52:1c:41:88:33 | Done |\n",
       "| 6 | SAMOSA2 | SAMOSA_0067 | A4:cf:12:f9:ff:d5 | Done |\n",
       "\n"
      ],
      "text/plain": [
       "  Dongles Sensor_name MacID             Status\n",
       "1 SAMOSA1 SAMOSA_0060 10:52:1c:42:1d:de Done  \n",
       "2 SAMOSA1 SAMOSA_0061 F4:cf:a2:dd:42:d3 Done  \n",
       "3 SAMOSA1 SAMOSA_0063 F4:cf:a2:dd:42:4c Done  \n",
       "4 SAMOSA1 SAMOSA_0065 50:2:91:f7:44:c4  Done  \n",
       "5 SAMOSA1 SAMOSA_0066 10:52:1c:41:88:33 Done  \n",
       "6 SAMOSA2 SAMOSA_0067 A4:cf:12:f9:ff:d5 Done  "
      ]
     },
     "metadata": {},
     "output_type": "display_data"
    }
   ],
   "source": [
    "Colocated_Sensors =read.csv(\"/home/ubuntu/Git/Sensor_Alert/Data/25_Colocated_Sensors_22Sep21.csv\")\n",
    "SAMOSA_pas = pas%>% pas_filter(!grepl(\"B\",label),grepl(\"SAMOSA\",label))\n",
    "head(Colocated_Sensors)\n"
   ]
  },
  {
   "cell_type": "code",
   "execution_count": 49,
   "id": "1fd1b5b9-c220-4e62-aadd-15dca732f972",
   "metadata": {},
   "outputs": [
    {
     "data": {
      "text/html": [
       "<table class=\"dataframe\">\n",
       "<caption>A pa_synoptic: 6 × 3</caption>\n",
       "<thead>\n",
       "\t<tr><th scope=col>Sensor_name</th><th scope=col>lastSeenDate</th><th scope=col>Dongles</th></tr>\n",
       "\t<tr><th scope=col>&lt;chr&gt;</th><th scope=col>&lt;dttm&gt;</th><th scope=col>&lt;fct&gt;</th></tr>\n",
       "</thead>\n",
       "<tbody>\n",
       "\t<tr><td>SAMOSA_0060</td><td>2021-09-22 18:53:06</td><td>SAMOSA1</td></tr>\n",
       "\t<tr><td>SAMOSA_0061</td><td>2021-09-22 18:53:15</td><td>SAMOSA1</td></tr>\n",
       "\t<tr><td>SAMOSA_0063</td><td>2021-09-22 18:53:12</td><td>SAMOSA1</td></tr>\n",
       "\t<tr><td>SAMOSA_0065</td><td>2021-09-22 18:53:08</td><td>SAMOSA1</td></tr>\n",
       "\t<tr><td>SAMOSA_0066</td><td>2021-09-22 18:53:19</td><td>SAMOSA1</td></tr>\n",
       "\t<tr><td>SAMOSA_0067</td><td>2021-09-22 18:53:31</td><td>SAMOSA2</td></tr>\n",
       "</tbody>\n",
       "</table>\n"
      ],
      "text/latex": [
       "A pa\\_synoptic: 6 × 3\n",
       "\\begin{tabular}{lll}\n",
       " Sensor\\_name & lastSeenDate & Dongles\\\\\n",
       " <chr> & <dttm> & <fct>\\\\\n",
       "\\hline\n",
       "\t SAMOSA\\_0060 & 2021-09-22 18:53:06 & SAMOSA1\\\\\n",
       "\t SAMOSA\\_0061 & 2021-09-22 18:53:15 & SAMOSA1\\\\\n",
       "\t SAMOSA\\_0063 & 2021-09-22 18:53:12 & SAMOSA1\\\\\n",
       "\t SAMOSA\\_0065 & 2021-09-22 18:53:08 & SAMOSA1\\\\\n",
       "\t SAMOSA\\_0066 & 2021-09-22 18:53:19 & SAMOSA1\\\\\n",
       "\t SAMOSA\\_0067 & 2021-09-22 18:53:31 & SAMOSA2\\\\\n",
       "\\end{tabular}\n"
      ],
      "text/markdown": [
       "\n",
       "A pa_synoptic: 6 × 3\n",
       "\n",
       "| Sensor_name &lt;chr&gt; | lastSeenDate &lt;dttm&gt; | Dongles &lt;fct&gt; |\n",
       "|---|---|---|\n",
       "| SAMOSA_0060 | 2021-09-22 18:53:06 | SAMOSA1 |\n",
       "| SAMOSA_0061 | 2021-09-22 18:53:15 | SAMOSA1 |\n",
       "| SAMOSA_0063 | 2021-09-22 18:53:12 | SAMOSA1 |\n",
       "| SAMOSA_0065 | 2021-09-22 18:53:08 | SAMOSA1 |\n",
       "| SAMOSA_0066 | 2021-09-22 18:53:19 | SAMOSA1 |\n",
       "| SAMOSA_0067 | 2021-09-22 18:53:31 | SAMOSA2 |\n",
       "\n"
      ],
      "text/plain": [
       "  Sensor_name lastSeenDate        Dongles\n",
       "1 SAMOSA_0060 2021-09-22 18:53:06 SAMOSA1\n",
       "2 SAMOSA_0061 2021-09-22 18:53:15 SAMOSA1\n",
       "3 SAMOSA_0063 2021-09-22 18:53:12 SAMOSA1\n",
       "4 SAMOSA_0065 2021-09-22 18:53:08 SAMOSA1\n",
       "5 SAMOSA_0066 2021-09-22 18:53:19 SAMOSA1\n",
       "6 SAMOSA_0067 2021-09-22 18:53:31 SAMOSA2"
      ]
     },
     "metadata": {},
     "output_type": "display_data"
    },
    {
     "data": {
      "text/html": [
       "25"
      ],
      "text/latex": [
       "25"
      ],
      "text/markdown": [
       "25"
      ],
      "text/plain": [
       "[1] 25"
      ]
     },
     "metadata": {},
     "output_type": "display_data"
    }
   ],
   "source": [
    "#Send notification to slack channel\n",
    "time <- Sys.time()\n",
    "## Changing the time zone to UTC\n",
    "time <- with_tz(time,tz=\"Asia/Kolkata\")\n",
    "## Creating 5 minutes lag for the test (If any sensor is inactive for more than an hour we send an alert)\n",
    "time_check = time-minutes(5)\n",
    "## Finding any inactive sensors\n",
    "Inactive_sensors = SAMOSA_pas %>%mutate(Sensor_name=label)%>% filter(label %in% Colocated_Sensors$Sensor_name) %>% \n",
    "filter(time_check>lastSeenDate) %>% left_join(Colocated_Sensors,by=\"Sensor_name\") %>%\n",
    "select(Sensor_name,lastSeenDate,Dongles)\n",
    "head(Inactive_sensors)\n",
    "dim(Inactive_sensors)[1]"
   ]
  },
  {
   "cell_type": "code",
   "execution_count": 50,
   "id": "867a3971-cf0b-487a-b1e3-46b39c17f91a",
   "metadata": {},
   "outputs": [
    {
     "data": {
      "text/html": [
       "'Successfully connected to Slack'"
      ],
      "text/latex": [
       "'Successfully connected to Slack'"
      ],
      "text/markdown": [
       "'Successfully connected to Slack'"
      ],
      "text/plain": [
       "[1] \"Successfully connected to Slack\""
      ]
     },
     "metadata": {},
     "output_type": "display_data"
    }
   ],
   "source": [
    "## Adding the R environment file. This file contains the API used for analysis\n",
    "readRenviron(\"/home/ubuntu/Git/API.Renviron\")\n",
    "\n",
    "slackr_setup(channel = \"pa_sensor_alert\",\n",
    "             bot_user_oauth_token =  Sys.getenv('bot_user_oauth_token'),\n",
    "             incoming_webhook_url = Sys.getenv('incoming_webhook_url'))"
   ]
  },
  {
   "cell_type": "code",
   "execution_count": 51,
   "id": "12b728ab-835a-4e5d-9dd7-ca03200cb96e",
   "metadata": {},
   "outputs": [],
   "source": [
    "if (dim(Inactive_sensors)[1] > 0){\n",
    "    \n",
    "    slackr(\"Time of Query\",time)\n",
    "    slackr(\"Total Inactive sensors\", dim(Inactive_sensors)[1])\n",
    "    ## Sending the Slack alert if the sensors is inactive at any moment\n",
    "    slackr(\"Name of Inactive sensors at the moment\", pander::pandoc.table(Inactive_sensors))\n",
    "}"
   ]
  },
  {
   "cell_type": "code",
   "execution_count": null,
   "id": "b680f5b6-3c94-442f-9a4c-e8072075607e",
   "metadata": {},
   "outputs": [],
   "source": []
  }
 ],
 "metadata": {
  "kernelspec": {
   "display_name": "R [conda env:r-env]",
   "language": "R",
   "name": "conda-env-r-env-r"
  },
  "language_info": {
   "codemirror_mode": "r",
   "file_extension": ".r",
   "mimetype": "text/x-r-source",
   "name": "R",
   "pygments_lexer": "r",
   "version": "3.6.3"
  }
 },
 "nbformat": 4,
 "nbformat_minor": 5
}
