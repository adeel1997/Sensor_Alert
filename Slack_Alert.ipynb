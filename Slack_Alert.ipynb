{
 "cells": [
  {
   "cell_type": "code",
   "execution_count": 1,
   "metadata": {},
   "outputs": [
    {
     "name": "stderr",
     "output_type": "stream",
     "text": [
      "Loading required package: sp\n",
      "\n",
      "Warning message in fun(libname, pkgname):\n",
      "“rgeos: versions of GEOS runtime 3.9.1-CAPI-1.14.2\n",
      "and GEOS at installation 3.9.1dev-CAPI-1.14.1differ”\n",
      "Warning message in system(\"timedatectl\", intern = TRUE):\n",
      "“running command 'timedatectl' had status 1”\n",
      "\n",
      "Attaching package: ‘lubridate’\n",
      "\n",
      "\n",
      "The following objects are masked from ‘package:base’:\n",
      "\n",
      "    date, intersect, setdiff, union\n",
      "\n",
      "\n",
      "\n",
      "Attaching package: ‘dplyr’\n",
      "\n",
      "\n",
      "The following objects are masked from ‘package:stats’:\n",
      "\n",
      "    filter, lag\n",
      "\n",
      "\n",
      "The following objects are masked from ‘package:base’:\n",
      "\n",
      "    intersect, setdiff, setequal, union\n",
      "\n",
      "\n",
      "Loading required package: ggplot2\n",
      "\n",
      "Google's Terms of Service: https://cloud.google.com/maps-platform/terms/.\n",
      "\n",
      "Please cite ggmap if you use it! See citation(\"ggmap\") for details.\n",
      "\n"
     ]
    }
   ],
   "source": [
    "## Loading relevant packages\n",
    "library(\"slackr\");library(AirSensor);library(MazamaSpatialUtils)\n",
    "library(lubridate);library(dplyr);library(ggmap)\n",
    "library(texPreview) ## This package is not mandatory so ignore if you can't install it\n"
   ]
  },
  {
   "cell_type": "code",
   "execution_count": 3,
   "metadata": {},
   "outputs": [],
   "source": [
    "## Loading Spatial data \n",
    "## More details on Air Sensor Git hub page if it's not setup already\n",
    "initializeMazamaSpatialUtils(\"Spatial_data\")"
   ]
  },
  {
   "cell_type": "code",
   "execution_count": 4,
   "metadata": {},
   "outputs": [],
   "source": [
    "## Settng the Country Code API link and look back days \n",
    "pas <- pas_createNew(countryCodes = \"IN\",baseUrl = 'https://www.purpleair.com/json?all=true',\n",
    "                     includePWFSL = F)\n",
    "## Changing the time zone to Asia/Kolkata\n",
    "pas$lastSeenDate <- with_tz(pas$lastSeenDate,tz=\"Asia/Kolkata\")\n",
    "## Selecting ONLY NASA Sensors\n",
    "pas <- pas %>% pas_filter(grepl('NASA',label),!grepl(\"B\",label))\n"
   ]
  },
  {
   "cell_type": "code",
   "execution_count": 2,
   "metadata": {},
   "outputs": [
    {
     "data": {
      "text/html": [
       "'Successfully connected to Slack'"
      ],
      "text/latex": [
       "'Successfully connected to Slack'"
      ],
      "text/markdown": [
       "'Successfully connected to Slack'"
      ],
      "text/plain": [
       "[1] \"Successfully connected to Slack\""
      ]
     },
     "metadata": {},
     "output_type": "display_data"
    }
   ],
   "source": [
    "## Setting the slack system more details on slackr git hub page\n",
    "slackr_setup(channel = \"pa_sensor_alert\",\n",
    "                 bot_user_oauth_token = \"xxxx\",\n",
    "                 incoming_webhook_url = \"xxx\")\n"
   ]
  },
  {
   "cell_type": "code",
   "execution_count": 6,
   "metadata": {},
   "outputs": [
    {
     "name": "stdout",
     "output_type": "stream",
     "text": [
      "pa_synoptic[,11] [31 × 11] (S3: pa_synoptic/pa_synoptic/tbl_df/tbl/data.frame)\n",
      " $ label       : chr [1:31] \"NASA-AQCS-134\" \"NASA_AQCS-178\" \"NASA_AQCS_101\" \"NASA_AQCS_102\" ...\n",
      " $ latitude    : num [1:31] 24.8 28.6 31 30.9 28.5 ...\n",
      " $ longitude   : num [1:31] 85 77.1 75.7 75.8 77.5 ...\n",
      " $ lastSeenDate: POSIXct[1:31], format: \"2021-04-04 22:22:01\" \"2021-04-05 11:58:35\" ...\n",
      " $ humidity    : num [1:31] 8 10 23 16 11 NA 8 16 10 16 ...\n",
      " $ temperature : num [1:31] 103 101 92 102 104 NA 107 100 105 102 ...\n",
      " $ pm25_current: num [1:31] 46.1 26.6 45.5 46.5 40 ...\n",
      " $ pm25_1hr    : num [1:31] 48.2 43.4 60.8 68.5 97.6 ...\n",
      " $ pm25_6hr    : num [1:31] 81.7 46.9 59.4 66.7 91.3 ...\n",
      " $ pm25_1day   : num [1:31] 83.9 41.6 48.5 53.8 73.9 ...\n",
      " $ pm25_1week  : num [1:31] 123.2 65.3 60.8 68 105.6 ...\n"
     ]
    }
   ],
   "source": [
    "#Selecting specific columns from the pas dataframe\n",
    "columns <- c(\"label\",'latitude',\"longitude\",'lastSeenDate','humidity','temperature','pm25_current','pm25_1hr',\n",
    "             'pm25_6hr','pm25_1day','pm25_1week')\n",
    "pas_filter <- pas[,columns]\n",
    "str(pas_filter)"
   ]
  },
  {
   "cell_type": "code",
   "execution_count": 7,
   "metadata": {},
   "outputs": [],
   "source": [
    "## Looking at first ten rows from the dataset \n",
    "## This is where we can put filter on the rows or sensors based on our need\n",
    "subset_pas_filter <- pas_filter[1:10,]\n",
    "## Time at which the data is being query\n",
    "time <- Sys.time()\n",
    "## Changing the time zone to UTC\n",
    "time <- with_tz(time,tz=\"Asia/Kolkata\")\n",
    "slackr(\"Time of Query\",time)\n",
    "## You can use knitr or Pandoc to send neat tables. Install the package from the cron\n",
    "#slackr(\"Sensor basic Info\", knitr::kable(subset_pas_filter, format = \"markdown\"))\n",
    "slackr(\"Sensor basic Info\", pander::pandoc.table(subset_pas_filter))"
   ]
  },
  {
   "cell_type": "code",
   "execution_count": 8,
   "metadata": {},
   "outputs": [],
   "source": [
    "## This is used to get location  (Add your google map API key)\n",
    "ggmap::register_google(key = \"xxxx\")\n",
    "#location <- do.call(rbind,\n",
    "#                  lapply(1:nrow(subset_pas_filter),\n",
    "#                         function(i)revgeocode(as.numeric(subset_pas_filter[i,3:2]))))\n"
   ]
  },
  {
   "cell_type": "code",
   "execution_count": 9,
   "metadata": {},
   "outputs": [],
   "source": [
    "## Another approach is to save the files as .csv and then upload it in .csv to slack \n",
    "file_name = \"NASA_Sensor_Status_2021_03_03_30.csv\" ## This has to be generated automatically so use paste0 to generate\n",
    "## Saving the .csv files\n",
    "write.csv(pas_filter,paste0(\"Files/\",file_name),row.names=F)\n",
    "## Now will upload the .csv files\n",
    "slackr_upload(filename = paste0(\"Files/\",file_name),title = file_name)"
   ]
  },
  {
   "cell_type": "code",
   "execution_count": 3,
   "metadata": {},
   "outputs": [],
   "source": [
    "readRenviron(\"~/Git/API.Renviron\")"
   ]
  },
  {
   "cell_type": "code",
   "execution_count": 7,
   "metadata": {},
   "outputs": [
    {
     "name": "stderr",
     "output_type": "stream",
     "text": [
      "Warning message in system(\"timedatectl\", intern = TRUE):\n",
      "“running command 'timedatectl' had status 1”\n"
     ]
    }
   ],
   "source": [
    "source(\"~/Git/Sensor_Alert/Message_Alert.R\")"
   ]
  },
  {
   "cell_type": "code",
   "execution_count": 8,
   "metadata": {},
   "outputs": [
    {
     "data": {
      "text/html": [
       "'/home/jovyan/Git/Sensor_Alert'"
      ],
      "text/latex": [
       "'/home/jovyan/Git/Sensor\\_Alert'"
      ],
      "text/markdown": [
       "'/home/jovyan/Git/Sensor_Alert'"
      ],
      "text/plain": [
       "[1] \"/home/jovyan/Git/Sensor_Alert\""
      ]
     },
     "metadata": {},
     "output_type": "display_data"
    }
   ],
   "source": [
    "getwd()"
   ]
  }
 ],
 "metadata": {
  "kernelspec": {
   "display_name": "R [conda env:r-env]",
   "language": "R",
   "name": "conda-env-r-env-r"
  },
  "language_info": {
   "codemirror_mode": "r",
   "file_extension": ".r",
   "mimetype": "text/x-r-source",
   "name": "R",
   "pygments_lexer": "r",
   "version": "3.6.3"
  }
 },
 "nbformat": 4,
 "nbformat_minor": 4
}
