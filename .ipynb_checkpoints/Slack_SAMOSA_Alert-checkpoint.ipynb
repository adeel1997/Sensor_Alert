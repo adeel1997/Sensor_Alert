{
 "cells": [
  {
   "cell_type": "code",
   "execution_count": 63,
   "id": "b5dbe923-8bdb-4b01-9048-a9e54485831e",
   "metadata": {},
   "outputs": [],
   "source": [
    "## Loading relevant packages\n",
    "library(slackr)\n",
    "library(AirSensor)\n",
    "library(MazamaSpatialUtils)\n",
    "library(lubridate)\n",
    "library(dplyr)\n",
    "\n",
    "## Loading Spatial data \n",
    "## More details on Air Sensor Git hub page if it's not setup already\n",
    "initializeMazamaSpatialUtils(\"/home/ubuntu/Git/Sensor_Alert/Spatial_data\")\n",
    "\n",
    "## Settng the Country Code API link and look back days \n",
    "pas <- pas_createNew(countryCodes = \"IN\",\n",
    "                     baseUrl = 'https://www.purpleair.com/json?all=true',lookbackDays = 30,\n",
    "                     includePWFSL = F)\n",
    "## Changing the time zone to Asia/Kolkata\n",
    "pas$lastSeenDate <- with_tz(pas$lastSeenDate,tz=\"Asia/Kolkata\")\n",
    "\n"
   ]
  },
  {
   "cell_type": "code",
   "execution_count": 64,
   "id": "91729744-0b30-4eaf-8e87-9f7071374726",
   "metadata": {},
   "outputs": [
    {
     "data": {
      "text/html": [
       "<table class=\"dataframe\">\n",
       "<caption>A data.frame: 6 × 4</caption>\n",
       "<thead>\n",
       "\t<tr><th></th><th scope=col>Sensor_name</th><th scope=col>Dongles</th><th scope=col>MacID</th><th scope=col>Status</th></tr>\n",
       "\t<tr><th></th><th scope=col>&lt;fct&gt;</th><th scope=col>&lt;fct&gt;</th><th scope=col>&lt;fct&gt;</th><th scope=col>&lt;fct&gt;</th></tr>\n",
       "</thead>\n",
       "<tbody>\n",
       "\t<tr><th scope=row>1</th><td>SAMOSA_0014</td><td>SAMOSA1</td><td>40:f5:20:1e:58:73</td><td>Done</td></tr>\n",
       "\t<tr><th scope=row>2</th><td>SAMOSA_0019</td><td>SAMOSA1</td><td>40:f5:20:1d:25:c2</td><td>Done</td></tr>\n",
       "\t<tr><th scope=row>3</th><td>SAMOSA_0033</td><td>SAMOSA2</td><td>10:52:1c:42:40:b4</td><td>Done</td></tr>\n",
       "\t<tr><th scope=row>4</th><td>SAMOSA_0050</td><td>SAMOSA1</td><td>10:52:1c:41:66:a8</td><td>Done</td></tr>\n",
       "\t<tr><th scope=row>5</th><td>SAMOSA_0052</td><td>SAMOSA1</td><td>10:52:1c:41:f0:cc</td><td>Done</td></tr>\n",
       "\t<tr><th scope=row>6</th><td>SAMOSA_0055</td><td>SAMOSA2</td><td>10:52:1c:41:9f:a2</td><td>Done</td></tr>\n",
       "</tbody>\n",
       "</table>\n"
      ],
      "text/latex": [
       "A data.frame: 6 × 4\n",
       "\\begin{tabular}{r|llll}\n",
       "  & Sensor\\_name & Dongles & MacID & Status\\\\\n",
       "  & <fct> & <fct> & <fct> & <fct>\\\\\n",
       "\\hline\n",
       "\t1 & SAMOSA\\_0014 & SAMOSA1 & 40:f5:20:1e:58:73 & Done\\\\\n",
       "\t2 & SAMOSA\\_0019 & SAMOSA1 & 40:f5:20:1d:25:c2 & Done\\\\\n",
       "\t3 & SAMOSA\\_0033 & SAMOSA2 & 10:52:1c:42:40:b4 & Done\\\\\n",
       "\t4 & SAMOSA\\_0050 & SAMOSA1 & 10:52:1c:41:66:a8 & Done\\\\\n",
       "\t5 & SAMOSA\\_0052 & SAMOSA1 & 10:52:1c:41:f0:cc & Done\\\\\n",
       "\t6 & SAMOSA\\_0055 & SAMOSA2 & 10:52:1c:41:9f:a2 & Done\\\\\n",
       "\\end{tabular}\n"
      ],
      "text/markdown": [
       "\n",
       "A data.frame: 6 × 4\n",
       "\n",
       "| <!--/--> | Sensor_name &lt;fct&gt; | Dongles &lt;fct&gt; | MacID &lt;fct&gt; | Status &lt;fct&gt; |\n",
       "|---|---|---|---|---|\n",
       "| 1 | SAMOSA_0014 | SAMOSA1 | 40:f5:20:1e:58:73 | Done |\n",
       "| 2 | SAMOSA_0019 | SAMOSA1 | 40:f5:20:1d:25:c2 | Done |\n",
       "| 3 | SAMOSA_0033 | SAMOSA2 | 10:52:1c:42:40:b4 | Done |\n",
       "| 4 | SAMOSA_0050 | SAMOSA1 | 10:52:1c:41:66:a8 | Done |\n",
       "| 5 | SAMOSA_0052 | SAMOSA1 | 10:52:1c:41:f0:cc | Done |\n",
       "| 6 | SAMOSA_0055 | SAMOSA2 | 10:52:1c:41:9f:a2 | Done |\n",
       "\n"
      ],
      "text/plain": [
       "  Sensor_name Dongles MacID             Status\n",
       "1 SAMOSA_0014 SAMOSA1 40:f5:20:1e:58:73 Done  \n",
       "2 SAMOSA_0019 SAMOSA1 40:f5:20:1d:25:c2 Done  \n",
       "3 SAMOSA_0033 SAMOSA2 10:52:1c:42:40:b4 Done  \n",
       "4 SAMOSA_0050 SAMOSA1 10:52:1c:41:66:a8 Done  \n",
       "5 SAMOSA_0052 SAMOSA1 10:52:1c:41:f0:cc Done  \n",
       "6 SAMOSA_0055 SAMOSA2 10:52:1c:41:9f:a2 Done  "
      ]
     },
     "metadata": {},
     "output_type": "display_data"
    }
   ],
   "source": [
    "Colocated_Sensors =read.csv(\"/home/ubuntu/Git/Sensor_Alert/Data/25_Colocated_Sensors_07Oct21.csv\")\n",
    "SAMOSA_pas = pas%>% pas_filter(!grepl(\"B\",label),grepl(\"SAMOSA\",label))\n",
    "head(Colocated_Sensors)\n"
   ]
  },
  {
   "cell_type": "code",
   "execution_count": 65,
   "id": "1fd1b5b9-c220-4e62-aadd-15dca732f972",
   "metadata": {},
   "outputs": [
    {
     "data": {
      "text/html": [
       "<table class=\"dataframe\">\n",
       "<caption>A pa_synoptic: 1 × 3</caption>\n",
       "<thead>\n",
       "\t<tr><th scope=col>Sensor_name</th><th scope=col>lastSeenDate</th><th scope=col>Dongles</th></tr>\n",
       "\t<tr><th scope=col>&lt;chr&gt;</th><th scope=col>&lt;dttm&gt;</th><th scope=col>&lt;fct&gt;</th></tr>\n",
       "</thead>\n",
       "<tbody>\n",
       "\t<tr><td>SAMOSA_0112</td><td>2021-09-16 10:41:02</td><td>SAMOSA15</td></tr>\n",
       "</tbody>\n",
       "</table>\n"
      ],
      "text/latex": [
       "A pa\\_synoptic: 1 × 3\n",
       "\\begin{tabular}{lll}\n",
       " Sensor\\_name & lastSeenDate & Dongles\\\\\n",
       " <chr> & <dttm> & <fct>\\\\\n",
       "\\hline\n",
       "\t SAMOSA\\_0112 & 2021-09-16 10:41:02 & SAMOSA15\\\\\n",
       "\\end{tabular}\n"
      ],
      "text/markdown": [
       "\n",
       "A pa_synoptic: 1 × 3\n",
       "\n",
       "| Sensor_name &lt;chr&gt; | lastSeenDate &lt;dttm&gt; | Dongles &lt;fct&gt; |\n",
       "|---|---|---|\n",
       "| SAMOSA_0112 | 2021-09-16 10:41:02 | SAMOSA15 |\n",
       "\n"
      ],
      "text/plain": [
       "  Sensor_name lastSeenDate        Dongles \n",
       "1 SAMOSA_0112 2021-09-16 10:41:02 SAMOSA15"
      ]
     },
     "metadata": {},
     "output_type": "display_data"
    },
    {
     "data": {
      "text/html": [
       "1"
      ],
      "text/latex": [
       "1"
      ],
      "text/markdown": [
       "1"
      ],
      "text/plain": [
       "[1] 1"
      ]
     },
     "metadata": {},
     "output_type": "display_data"
    }
   ],
   "source": [
    "#Send notification to slack channel\n",
    "time <- Sys.time()\n",
    "## Changing the time zone to UTC\n",
    "time <- with_tz(time,tz=\"Asia/Kolkata\")\n",
    "## Creating 5 minutes lag for the test (If any sensor is inactive for more than an hour we send an alert)\n",
    "time_check = time-minutes(10)\n",
    "## Finding any inactive sensors\n",
    "Inactive_sensors = SAMOSA_pas %>%mutate(Sensor_name=label)%>% filter(label %in% Colocated_Sensors$Sensor_name) %>% \n",
    "filter(time_check>lastSeenDate) %>% left_join(Colocated_Sensors,by=\"Sensor_name\") %>%\n",
    "select(Sensor_name,lastSeenDate,Dongles)\n",
    "head(Inactive_sensors)\n",
    "dim(Inactive_sensors)[1]"
   ]
  },
  {
   "cell_type": "code",
   "execution_count": 66,
   "id": "867a3971-cf0b-487a-b1e3-46b39c17f91a",
   "metadata": {},
   "outputs": [
    {
     "data": {
      "text/html": [
       "'Successfully connected to Slack'"
      ],
      "text/latex": [
       "'Successfully connected to Slack'"
      ],
      "text/markdown": [
       "'Successfully connected to Slack'"
      ],
      "text/plain": [
       "[1] \"Successfully connected to Slack\""
      ]
     },
     "metadata": {},
     "output_type": "display_data"
    }
   ],
   "source": [
    "## Adding the R environment file. This file contains the API used for analysis\n",
    "readRenviron(\"/home/ubuntu/Git/API.Renviron\")\n",
    "\n",
    "slackr_setup(channel = \"pa_sensor_alert\",\n",
    "             bot_user_oauth_token =  Sys.getenv('bot_user_oauth_token'),\n",
    "             incoming_webhook_url = Sys.getenv('incoming_webhook_url'))"
   ]
  },
  {
   "cell_type": "code",
   "execution_count": 67,
   "id": "12b728ab-835a-4e5d-9dd7-ca03200cb96e",
   "metadata": {},
   "outputs": [],
   "source": [
    "if (dim(Inactive_sensors)[1] > 0){\n",
    "    \n",
    "    slackr(\"Time of Query\",time)\n",
    "    slackr(\"Total Inactive sensors\", dim(Inactive_sensors)[1])\n",
    "    ## Sending the Slack alert if the sensors is inactive at any moment\n",
    "    slackr(\"Name of Inactive sensors at the moment\", pander::pandoc.table(Inactive_sensors))\n",
    "}"
   ]
  },
  {
   "cell_type": "code",
   "execution_count": null,
   "id": "b680f5b6-3c94-442f-9a4c-e8072075607e",
   "metadata": {},
   "outputs": [],
   "source": []
  }
 ],
 "metadata": {
  "kernelspec": {
   "display_name": "R [conda env:r-env]",
   "language": "R",
   "name": "conda-env-r-env-r"
  },
  "language_info": {
   "codemirror_mode": "r",
   "file_extension": ".r",
   "mimetype": "text/x-r-source",
   "name": "R",
   "pygments_lexer": "r",
   "version": "3.6.3"
  }
 },
 "nbformat": 4,
 "nbformat_minor": 5
}
