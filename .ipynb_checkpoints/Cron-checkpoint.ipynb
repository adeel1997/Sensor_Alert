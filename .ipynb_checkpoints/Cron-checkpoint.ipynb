{
 "cells": [
  {
   "cell_type": "code",
   "execution_count": 24,
   "id": "6cb8e977-fae9-4411-91b1-a4b931a034d5",
   "metadata": {},
   "outputs": [],
   "source": [
    "## Load the cronR pacakge to get updated report \n",
    "library(cronR)"
   ]
  },
  {
   "cell_type": "code",
   "execution_count": 6,
   "id": "8f60733c-60dc-4415-b784-04c75413ac6c",
   "metadata": {},
   "outputs": [],
   "source": [
    "## This will add the script that you want to setup the cron for\n",
    "cmd <- cron_rscript(\"/home/ubuntu/Git/Sensor_Alert/Base_script.R\")"
   ]
  },
  {
   "cell_type": "code",
   "execution_count": 20,
   "id": "48def9a5-f7ed-4122-8ffd-92474c32adcc",
   "metadata": {},
   "outputs": [
    {
     "name": "stderr",
     "output_type": "stream",
     "text": [
      "Adding cronjob:\n",
      "---------------\n",
      "\n",
      "## cronR job\n",
      "## id:   SAP\n",
      "## tags: \n",
      "## desc: Daily update of the Sensor Alert and Performance updating 17:00 IST(Test)\n",
      "0 17 * * * /home/ubuntu/miniconda/envs/r-env/lib/R/bin/Rscript '/home/ubuntu/Git/Sensor_Alert/Base_script.R'  >> '/home/ubuntu/Git/Sensor_Alert/Base_script.log' 2>&1\n",
      "\n"
     ]
    }
   ],
   "source": [
    "## Adding the cron to update the report everyday at 9 AM \n",
    "cron_add(cmd,frequency = 'daily',at=\"09:00\", id = 'SAP',\n",
    "         description = 'Daily update of the Sensor Alert and Performance updating 09:00 IST')"
   ]
  },
  {
   "cell_type": "code",
   "execution_count": null,
   "id": "1ea70243-6279-44c8-a7e9-d4378049761f",
   "metadata": {},
   "outputs": [],
   "source": [
    "## Cron ls to check the whether it's being added or not\n",
    "cron_ls()"
   ]
  },
  {
   "cell_type": "code",
   "execution_count": null,
   "id": "5b6f5d79-659c-4e62-b687-665306cefcd7",
   "metadata": {},
   "outputs": [],
   "source": [
    "## If you are running it over conda environment or (Jupyter notebook) then you have to activate the conda environment and \n",
    "## update update through crontab using command line (Type crontab -e in the command line and update like this)\n",
    "#SHELL=/bin/bash\n",
    "#BASH_ENV=~/.bashrc_conda\n",
    "#0 9 * * * conda activate r-env; /home/ubuntu/miniconda/envs/r-env/lib/R/bin/Rscript '/home/ubuntu/Git/Sensor_Alert/Base_script.R'  >> $$'  >> '/home/ubuntu/Git/Sensor_Alert/Base_script.log' 2>&1"
   ]
  }
 ],
 "metadata": {
  "kernelspec": {
   "display_name": "R [conda env:r-env]",
   "language": "R",
   "name": "conda-env-r-env-r"
  },
  "language_info": {
   "codemirror_mode": "r",
   "file_extension": ".r",
   "mimetype": "text/x-r-source",
   "name": "R",
   "pygments_lexer": "r",
   "version": "3.6.3"
  }
 },
 "nbformat": 4,
 "nbformat_minor": 5
}
